{
 "cells": [
  {
   "cell_type": "markdown",
   "metadata": {},
   "source": [
    "Data Formatting"
   ]
  },
  {
   "cell_type": "code",
   "execution_count": 2,
   "metadata": {},
   "outputs": [],
   "source": [
    "#Importing Req libraries\n",
    "import pandas as pd\n",
    "import pickle\n",
    "import numpy as np\n",
    "import seaborn as sns\n",
    "import matplotlib.pyplot as plt"
   ]
  },
  {
   "cell_type": "code",
   "execution_count": 3,
   "metadata": {},
   "outputs": [],
   "source": [
    "#Reading the CSV File\n",
    "\n",
    "df = pd.read_csv('ipl_dataset.csv')"
   ]
  },
  {
   "cell_type": "code",
   "execution_count": 4,
   "metadata": {},
   "outputs": [
    {
     "data": {
      "text/html": [
       "<div>\n",
       "<style scoped>\n",
       "    .dataframe tbody tr th:only-of-type {\n",
       "        vertical-align: middle;\n",
       "    }\n",
       "\n",
       "    .dataframe tbody tr th {\n",
       "        vertical-align: top;\n",
       "    }\n",
       "\n",
       "    .dataframe thead th {\n",
       "        text-align: right;\n",
       "    }\n",
       "</style>\n",
       "<table border=\"1\" class=\"dataframe\">\n",
       "  <thead>\n",
       "    <tr style=\"text-align: right;\">\n",
       "      <th></th>\n",
       "      <th>mid</th>\n",
       "      <th>date</th>\n",
       "      <th>venue</th>\n",
       "      <th>bat_team</th>\n",
       "      <th>bowl_team</th>\n",
       "      <th>batsman</th>\n",
       "      <th>bowler</th>\n",
       "      <th>runs</th>\n",
       "      <th>wickets</th>\n",
       "      <th>overs</th>\n",
       "      <th>runs_last_5</th>\n",
       "      <th>wickets_last_5</th>\n",
       "      <th>striker</th>\n",
       "      <th>non-striker</th>\n",
       "      <th>total</th>\n",
       "    </tr>\n",
       "  </thead>\n",
       "  <tbody>\n",
       "    <tr>\n",
       "      <th>0</th>\n",
       "      <td>1</td>\n",
       "      <td>2008-04-18</td>\n",
       "      <td>M Chinnaswamy Stadium</td>\n",
       "      <td>Kolkata Knight Riders</td>\n",
       "      <td>Royal Challengers Bangalore</td>\n",
       "      <td>SC Ganguly</td>\n",
       "      <td>P Kumar</td>\n",
       "      <td>1</td>\n",
       "      <td>0</td>\n",
       "      <td>0.1</td>\n",
       "      <td>1</td>\n",
       "      <td>0</td>\n",
       "      <td>0</td>\n",
       "      <td>0</td>\n",
       "      <td>222</td>\n",
       "    </tr>\n",
       "    <tr>\n",
       "      <th>1</th>\n",
       "      <td>1</td>\n",
       "      <td>2008-04-18</td>\n",
       "      <td>M Chinnaswamy Stadium</td>\n",
       "      <td>Kolkata Knight Riders</td>\n",
       "      <td>Royal Challengers Bangalore</td>\n",
       "      <td>BB McCullum</td>\n",
       "      <td>P Kumar</td>\n",
       "      <td>1</td>\n",
       "      <td>0</td>\n",
       "      <td>0.2</td>\n",
       "      <td>1</td>\n",
       "      <td>0</td>\n",
       "      <td>0</td>\n",
       "      <td>0</td>\n",
       "      <td>222</td>\n",
       "    </tr>\n",
       "    <tr>\n",
       "      <th>2</th>\n",
       "      <td>1</td>\n",
       "      <td>2008-04-18</td>\n",
       "      <td>M Chinnaswamy Stadium</td>\n",
       "      <td>Kolkata Knight Riders</td>\n",
       "      <td>Royal Challengers Bangalore</td>\n",
       "      <td>BB McCullum</td>\n",
       "      <td>P Kumar</td>\n",
       "      <td>2</td>\n",
       "      <td>0</td>\n",
       "      <td>0.2</td>\n",
       "      <td>2</td>\n",
       "      <td>0</td>\n",
       "      <td>0</td>\n",
       "      <td>0</td>\n",
       "      <td>222</td>\n",
       "    </tr>\n",
       "    <tr>\n",
       "      <th>3</th>\n",
       "      <td>1</td>\n",
       "      <td>2008-04-18</td>\n",
       "      <td>M Chinnaswamy Stadium</td>\n",
       "      <td>Kolkata Knight Riders</td>\n",
       "      <td>Royal Challengers Bangalore</td>\n",
       "      <td>BB McCullum</td>\n",
       "      <td>P Kumar</td>\n",
       "      <td>2</td>\n",
       "      <td>0</td>\n",
       "      <td>0.3</td>\n",
       "      <td>2</td>\n",
       "      <td>0</td>\n",
       "      <td>0</td>\n",
       "      <td>0</td>\n",
       "      <td>222</td>\n",
       "    </tr>\n",
       "    <tr>\n",
       "      <th>4</th>\n",
       "      <td>1</td>\n",
       "      <td>2008-04-18</td>\n",
       "      <td>M Chinnaswamy Stadium</td>\n",
       "      <td>Kolkata Knight Riders</td>\n",
       "      <td>Royal Challengers Bangalore</td>\n",
       "      <td>BB McCullum</td>\n",
       "      <td>P Kumar</td>\n",
       "      <td>2</td>\n",
       "      <td>0</td>\n",
       "      <td>0.4</td>\n",
       "      <td>2</td>\n",
       "      <td>0</td>\n",
       "      <td>0</td>\n",
       "      <td>0</td>\n",
       "      <td>222</td>\n",
       "    </tr>\n",
       "  </tbody>\n",
       "</table>\n",
       "</div>"
      ],
      "text/plain": [
       "   mid        date                  venue               bat_team  \\\n",
       "0    1  2008-04-18  M Chinnaswamy Stadium  Kolkata Knight Riders   \n",
       "1    1  2008-04-18  M Chinnaswamy Stadium  Kolkata Knight Riders   \n",
       "2    1  2008-04-18  M Chinnaswamy Stadium  Kolkata Knight Riders   \n",
       "3    1  2008-04-18  M Chinnaswamy Stadium  Kolkata Knight Riders   \n",
       "4    1  2008-04-18  M Chinnaswamy Stadium  Kolkata Knight Riders   \n",
       "\n",
       "                     bowl_team      batsman   bowler  runs  wickets  overs  \\\n",
       "0  Royal Challengers Bangalore   SC Ganguly  P Kumar     1        0    0.1   \n",
       "1  Royal Challengers Bangalore  BB McCullum  P Kumar     1        0    0.2   \n",
       "2  Royal Challengers Bangalore  BB McCullum  P Kumar     2        0    0.2   \n",
       "3  Royal Challengers Bangalore  BB McCullum  P Kumar     2        0    0.3   \n",
       "4  Royal Challengers Bangalore  BB McCullum  P Kumar     2        0    0.4   \n",
       "\n",
       "   runs_last_5  wickets_last_5  striker  non-striker  total  \n",
       "0            1               0        0            0    222  \n",
       "1            1               0        0            0    222  \n",
       "2            2               0        0            0    222  \n",
       "3            2               0        0            0    222  \n",
       "4            2               0        0            0    222  "
      ]
     },
     "execution_count": 4,
     "metadata": {},
     "output_type": "execute_result"
    }
   ],
   "source": [
    "df.head()"
   ]
  },
  {
   "cell_type": "code",
   "execution_count": 5,
   "metadata": {},
   "outputs": [
    {
     "data": {
      "text/plain": [
       "mid               76014\n",
       "date              76014\n",
       "venue             76014\n",
       "bat_team          76014\n",
       "bowl_team         76014\n",
       "batsman           76014\n",
       "bowler            76014\n",
       "runs              76014\n",
       "wickets           76014\n",
       "overs             76014\n",
       "runs_last_5       76014\n",
       "wickets_last_5    76014\n",
       "striker           76014\n",
       "non-striker       76014\n",
       "total             76014\n",
       "dtype: int64"
      ]
     },
     "execution_count": 5,
     "metadata": {},
     "output_type": "execute_result"
    }
   ],
   "source": [
    "df.count()"
   ]
  },
  {
   "cell_type": "markdown",
   "metadata": {},
   "source": [
    "Data Cleaning"
   ]
  },
  {
   "cell_type": "code",
   "execution_count": 6,
   "metadata": {},
   "outputs": [],
   "source": [
    "#Remove unwanted attributes\n",
    "remove_columns = ['mid','batsman','bowler','striker','non-striker']\n",
    "df.drop(labels = remove_columns, axis =1, inplace=True)"
   ]
  },
  {
   "cell_type": "markdown",
   "metadata": {},
   "source": [
    "Data Analysis"
   ]
  },
  {
   "cell_type": "markdown",
   "metadata": {},
   "source": [
    "Team Names"
   ]
  },
  {
   "cell_type": "code",
   "execution_count": 7,
   "metadata": {},
   "outputs": [
    {
     "data": {
      "text/plain": [
       "array(['Kolkata Knight Riders', 'Chennai Super Kings', 'Rajasthan Royals',\n",
       "       'Mumbai Indians', 'Deccan Chargers', 'Kings XI Punjab',\n",
       "       'Royal Challengers Bangalore', 'Delhi Daredevils',\n",
       "       'Kochi Tuskers Kerala', 'Pune Warriors', 'Sunrisers Hyderabad',\n",
       "       'Rising Pune Supergiants', 'Gujarat Lions',\n",
       "       'Rising Pune Supergiant'], dtype=object)"
      ]
     },
     "execution_count": 7,
     "metadata": {},
     "output_type": "execute_result"
    }
   ],
   "source": [
    "df['bat_team'].unique()"
   ]
  },
  {
   "cell_type": "markdown",
   "metadata": {},
   "source": [
    "Venue Names"
   ]
  },
  {
   "cell_type": "code",
   "execution_count": 8,
   "metadata": {},
   "outputs": [],
   "source": [
    "df['count'] = 1"
   ]
  },
  {
   "cell_type": "code",
   "execution_count": 9,
   "metadata": {},
   "outputs": [
    {
     "data": {
      "text/plain": [
       "array(['M Chinnaswamy Stadium',\n",
       "       'Punjab Cricket Association Stadium, Mohali', 'Feroz Shah Kotla',\n",
       "       'Wankhede Stadium', 'Eden Gardens', 'Sawai Mansingh Stadium',\n",
       "       'Rajiv Gandhi International Stadium, Uppal',\n",
       "       'MA Chidambaram Stadium, Chepauk', 'Dr DY Patil Sports Academy',\n",
       "       'Newlands', \"St George's Park\", 'Kingsmead', 'SuperSport Park',\n",
       "       'Buffalo Park', 'New Wanderers Stadium', 'De Beers Diamond Oval',\n",
       "       'OUTsurance Oval', 'Brabourne Stadium',\n",
       "       'Sardar Patel Stadium, Motera', 'Barabati Stadium',\n",
       "       'Vidarbha Cricket Association Stadium, Jamtha',\n",
       "       'Himachal Pradesh Cricket Association Stadium', 'Nehru Stadium',\n",
       "       'Holkar Cricket Stadium',\n",
       "       'Dr. Y.S. Rajasekhara Reddy ACA-VDCA Cricket Stadium',\n",
       "       'Subrata Roy Sahara Stadium',\n",
       "       'Shaheed Veer Narayan Singh International Stadium',\n",
       "       'JSCA International Stadium Complex', 'Sheikh Zayed Stadium',\n",
       "       'Sharjah Cricket Stadium', 'Dubai International Cricket Stadium',\n",
       "       'Maharashtra Cricket Association Stadium',\n",
       "       'Punjab Cricket Association IS Bindra Stadium, Mohali',\n",
       "       'Saurashtra Cricket Association Stadium', 'Green Park'],\n",
       "      dtype=object)"
      ]
     },
     "execution_count": 9,
     "metadata": {},
     "output_type": "execute_result"
    }
   ],
   "source": [
    "df['venue'].unique()"
   ]
  },
  {
   "cell_type": "markdown",
   "metadata": {},
   "source": [
    "Most Used Stadiums"
   ]
  },
  {
   "cell_type": "code",
   "execution_count": 10,
   "metadata": {},
   "outputs": [],
   "source": [
    "df['count'] = 1\n",
    "all_venues = df.groupby(['venue']).count()['count']"
   ]
  },
  {
   "cell_type": "code",
   "execution_count": 11,
   "metadata": {},
   "outputs": [
    {
     "data": {
      "text/html": [
       "<div>\n",
       "<style scoped>\n",
       "    .dataframe tbody tr th:only-of-type {\n",
       "        vertical-align: middle;\n",
       "    }\n",
       "\n",
       "    .dataframe tbody tr th {\n",
       "        vertical-align: top;\n",
       "    }\n",
       "\n",
       "    .dataframe thead th {\n",
       "        text-align: right;\n",
       "    }\n",
       "</style>\n",
       "<table border=\"1\" class=\"dataframe\">\n",
       "  <thead>\n",
       "    <tr style=\"text-align: right;\">\n",
       "      <th></th>\n",
       "      <th>count</th>\n",
       "    </tr>\n",
       "    <tr>\n",
       "      <th>venue</th>\n",
       "      <th></th>\n",
       "    </tr>\n",
       "  </thead>\n",
       "  <tbody>\n",
       "    <tr>\n",
       "      <th>Barabati Stadium</th>\n",
       "      <td>856</td>\n",
       "    </tr>\n",
       "    <tr>\n",
       "      <th>Brabourne Stadium</th>\n",
       "      <td>1380</td>\n",
       "    </tr>\n",
       "    <tr>\n",
       "      <th>Buffalo Park</th>\n",
       "      <td>380</td>\n",
       "    </tr>\n",
       "    <tr>\n",
       "      <th>De Beers Diamond Oval</th>\n",
       "      <td>368</td>\n",
       "    </tr>\n",
       "    <tr>\n",
       "      <th>Dr DY Patil Sports Academy</th>\n",
       "      <td>2088</td>\n",
       "    </tr>\n",
       "    <tr>\n",
       "      <th>Dr. Y.S. Rajasekhara Reddy ACA-VDCA Cricket Stadium</th>\n",
       "      <td>1113</td>\n",
       "    </tr>\n",
       "    <tr>\n",
       "      <th>Dubai International Cricket Stadium</th>\n",
       "      <td>868</td>\n",
       "    </tr>\n",
       "    <tr>\n",
       "      <th>Eden Gardens</th>\n",
       "      <td>7049</td>\n",
       "    </tr>\n",
       "    <tr>\n",
       "      <th>Feroz Shah Kotla</th>\n",
       "      <td>7068</td>\n",
       "    </tr>\n",
       "    <tr>\n",
       "      <th>Green Park</th>\n",
       "      <td>492</td>\n",
       "    </tr>\n",
       "    <tr>\n",
       "      <th>Himachal Pradesh Cricket Association Stadium</th>\n",
       "      <td>1115</td>\n",
       "    </tr>\n",
       "    <tr>\n",
       "      <th>Holkar Cricket Stadium</th>\n",
       "      <td>617</td>\n",
       "    </tr>\n",
       "    <tr>\n",
       "      <th>JSCA International Stadium Complex</th>\n",
       "      <td>837</td>\n",
       "    </tr>\n",
       "    <tr>\n",
       "      <th>Kingsmead</th>\n",
       "      <td>1731</td>\n",
       "    </tr>\n",
       "    <tr>\n",
       "      <th>M Chinnaswamy Stadium</th>\n",
       "      <td>7443</td>\n",
       "    </tr>\n",
       "    <tr>\n",
       "      <th>MA Chidambaram Stadium, Chepauk</th>\n",
       "      <td>5972</td>\n",
       "    </tr>\n",
       "    <tr>\n",
       "      <th>Maharashtra Cricket Association Stadium</th>\n",
       "      <td>1843</td>\n",
       "    </tr>\n",
       "    <tr>\n",
       "      <th>Nehru Stadium</th>\n",
       "      <td>499</td>\n",
       "    </tr>\n",
       "    <tr>\n",
       "      <th>New Wanderers Stadium</th>\n",
       "      <td>995</td>\n",
       "    </tr>\n",
       "    <tr>\n",
       "      <th>Newlands</th>\n",
       "      <td>737</td>\n",
       "    </tr>\n",
       "    <tr>\n",
       "      <th>OUTsurance Oval</th>\n",
       "      <td>251</td>\n",
       "    </tr>\n",
       "    <tr>\n",
       "      <th>Punjab Cricket Association IS Bindra Stadium, Mohali</th>\n",
       "      <td>1342</td>\n",
       "    </tr>\n",
       "    <tr>\n",
       "      <th>Punjab Cricket Association Stadium, Mohali</th>\n",
       "      <td>4247</td>\n",
       "    </tr>\n",
       "    <tr>\n",
       "      <th>Rajiv Gandhi International Stadium, Uppal</th>\n",
       "      <td>5827</td>\n",
       "    </tr>\n",
       "    <tr>\n",
       "      <th>Sardar Patel Stadium, Motera</th>\n",
       "      <td>1484</td>\n",
       "    </tr>\n",
       "    <tr>\n",
       "      <th>Saurashtra Cricket Association Stadium</th>\n",
       "      <td>1229</td>\n",
       "    </tr>\n",
       "    <tr>\n",
       "      <th>Sawai Mansingh Stadium</th>\n",
       "      <td>4110</td>\n",
       "    </tr>\n",
       "    <tr>\n",
       "      <th>Shaheed Veer Narayan Singh International Stadium</th>\n",
       "      <td>742</td>\n",
       "    </tr>\n",
       "    <tr>\n",
       "      <th>Sharjah Cricket Stadium</th>\n",
       "      <td>744</td>\n",
       "    </tr>\n",
       "    <tr>\n",
       "      <th>Sheikh Zayed Stadium</th>\n",
       "      <td>836</td>\n",
       "    </tr>\n",
       "    <tr>\n",
       "      <th>St George's Park</th>\n",
       "      <td>870</td>\n",
       "    </tr>\n",
       "    <tr>\n",
       "      <th>Subrata Roy Sahara Stadium</th>\n",
       "      <td>2086</td>\n",
       "    </tr>\n",
       "    <tr>\n",
       "      <th>SuperSport Park</th>\n",
       "      <td>1377</td>\n",
       "    </tr>\n",
       "    <tr>\n",
       "      <th>Vidarbha Cricket Association Stadium, Jamtha</th>\n",
       "      <td>370</td>\n",
       "    </tr>\n",
       "    <tr>\n",
       "      <th>Wankhede Stadium</th>\n",
       "      <td>7048</td>\n",
       "    </tr>\n",
       "  </tbody>\n",
       "</table>\n",
       "</div>"
      ],
      "text/plain": [
       "                                                    count\n",
       "venue                                                    \n",
       "Barabati Stadium                                      856\n",
       "Brabourne Stadium                                    1380\n",
       "Buffalo Park                                          380\n",
       "De Beers Diamond Oval                                 368\n",
       "Dr DY Patil Sports Academy                           2088\n",
       "Dr. Y.S. Rajasekhara Reddy ACA-VDCA Cricket Sta...   1113\n",
       "Dubai International Cricket Stadium                   868\n",
       "Eden Gardens                                         7049\n",
       "Feroz Shah Kotla                                     7068\n",
       "Green Park                                            492\n",
       "Himachal Pradesh Cricket Association Stadium         1115\n",
       "Holkar Cricket Stadium                                617\n",
       "JSCA International Stadium Complex                    837\n",
       "Kingsmead                                            1731\n",
       "M Chinnaswamy Stadium                                7443\n",
       "MA Chidambaram Stadium, Chepauk                      5972\n",
       "Maharashtra Cricket Association Stadium              1843\n",
       "Nehru Stadium                                         499\n",
       "New Wanderers Stadium                                 995\n",
       "Newlands                                              737\n",
       "OUTsurance Oval                                       251\n",
       "Punjab Cricket Association IS Bindra Stadium, M...   1342\n",
       "Punjab Cricket Association Stadium, Mohali           4247\n",
       "Rajiv Gandhi International Stadium, Uppal            5827\n",
       "Sardar Patel Stadium, Motera                         1484\n",
       "Saurashtra Cricket Association Stadium               1229\n",
       "Sawai Mansingh Stadium                               4110\n",
       "Shaheed Veer Narayan Singh International Stadium      742\n",
       "Sharjah Cricket Stadium                               744\n",
       "Sheikh Zayed Stadium                                  836\n",
       "St George's Park                                      870\n",
       "Subrata Roy Sahara Stadium                           2086\n",
       "SuperSport Park                                      1377\n",
       "Vidarbha Cricket Association Stadium, Jamtha          370\n",
       "Wankhede Stadium                                     7048"
      ]
     },
     "execution_count": 11,
     "metadata": {},
     "output_type": "execute_result"
    }
   ],
   "source": [
    "pd.DataFrame(all_venues)"
   ]
  },
  {
   "cell_type": "markdown",
   "metadata": {},
   "source": [
    "Feature Engineering and Selection"
   ]
  },
  {
   "cell_type": "code",
   "execution_count": 12,
   "metadata": {},
   "outputs": [],
   "source": [
    "current_teams = ['Kolkata Knight Riders', 'Chennai Super Kings', 'Rajasthan Royals',\n",
    "                 'Mumbai Indians', 'Kings XI Punjab',\n",
    "                 'Royal Challengers Bangalore', 'Delhi Daredevils',\n",
    "                 'Sunrisers Hyderabad']"
   ]
  },
  {
   "cell_type": "code",
   "execution_count": 13,
   "metadata": {},
   "outputs": [],
   "source": [
    "\n",
    "current_venues = ['M Chinnaswamy Stadium', 'Eden Gardens', 'Feroz Shah Kotla', 'MA Chidambaram Stadium, Chepauk',\n",
    "                  'Punjab Cricket Association Stadium, Mohali',\n",
    "                  'Wankhede Stadium', 'Sawai Mansingh Stadium',\n",
    "                  'Rajiv Gandhi International Stadium, Uppal']"
   ]
  },
  {
   "cell_type": "markdown",
   "metadata": {},
   "source": [
    "Collecting Current Teams and Current Venues"
   ]
  },
  {
   "cell_type": "code",
   "execution_count": 14,
   "metadata": {},
   "outputs": [
    {
     "data": {
      "text/plain": [
       "date              38388\n",
       "venue             38388\n",
       "bat_team          38388\n",
       "bowl_team         38388\n",
       "runs              38388\n",
       "wickets           38388\n",
       "overs             38388\n",
       "runs_last_5       38388\n",
       "wickets_last_5    38388\n",
       "total             38388\n",
       "count             38388\n",
       "dtype: int64"
      ]
     },
     "execution_count": 14,
     "metadata": {},
     "output_type": "execute_result"
    }
   ],
   "source": [
    "df = df[(df['bat_team'].isin(current_teams)) & (df['bowl_team'].isin(current_teams))]\n",
    "\n",
    "df = df[(df['venue'].isin(current_venues))]\n",
    "\n",
    "df.count()"
   ]
  },
  {
   "cell_type": "markdown",
   "metadata": {},
   "source": [
    "Removing first 5 overs data from every match"
   ]
  },
  {
   "cell_type": "code",
   "execution_count": 15,
   "metadata": {},
   "outputs": [
    {
     "data": {
      "text/plain": [
       "date              28608\n",
       "venue             28608\n",
       "bat_team          28608\n",
       "bowl_team         28608\n",
       "runs              28608\n",
       "wickets           28608\n",
       "overs             28608\n",
       "runs_last_5       28608\n",
       "wickets_last_5    28608\n",
       "total             28608\n",
       "count             28608\n",
       "dtype: int64"
      ]
     },
     "execution_count": 15,
     "metadata": {},
     "output_type": "execute_result"
    }
   ],
   "source": [
    "df = df[df['overs'] >= 5.0]\n",
    "df.count()"
   ]
  },
  {
   "cell_type": "markdown",
   "metadata": {},
   "source": [
    "Data Preprocessing"
   ]
  },
  {
   "cell_type": "markdown",
   "metadata": {},
   "source": [
    "Here we use Preprocessing to convert features usinf OneHotEncoding and covert string date into datetime object"
   ]
  },
  {
   "cell_type": "code",
   "execution_count": 16,
   "metadata": {},
   "outputs": [],
   "source": [
    "from datetime import datetime\n",
    "df['date'] = df['date'].apply(lambda x: datetime.strptime(x, '%Y-%m-%d'))"
   ]
  },
  {
   "cell_type": "code",
   "execution_count": 17,
   "metadata": {},
   "outputs": [],
   "source": [
    "final_df = pd.get_dummies(data=df, columns=['bat_team', 'bowl_team', 'venue'])"
   ]
  },
  {
   "cell_type": "code",
   "execution_count": 18,
   "metadata": {},
   "outputs": [
    {
     "data": {
      "text/html": [
       "<div>\n",
       "<style scoped>\n",
       "    .dataframe tbody tr th:only-of-type {\n",
       "        vertical-align: middle;\n",
       "    }\n",
       "\n",
       "    .dataframe tbody tr th {\n",
       "        vertical-align: top;\n",
       "    }\n",
       "\n",
       "    .dataframe thead th {\n",
       "        text-align: right;\n",
       "    }\n",
       "</style>\n",
       "<table border=\"1\" class=\"dataframe\">\n",
       "  <thead>\n",
       "    <tr style=\"text-align: right;\">\n",
       "      <th></th>\n",
       "      <th>date</th>\n",
       "      <th>runs</th>\n",
       "      <th>wickets</th>\n",
       "      <th>overs</th>\n",
       "      <th>runs_last_5</th>\n",
       "      <th>wickets_last_5</th>\n",
       "      <th>total</th>\n",
       "      <th>count</th>\n",
       "      <th>bat_team_Chennai Super Kings</th>\n",
       "      <th>bat_team_Delhi Daredevils</th>\n",
       "      <th>...</th>\n",
       "      <th>bowl_team_Royal Challengers Bangalore</th>\n",
       "      <th>bowl_team_Sunrisers Hyderabad</th>\n",
       "      <th>venue_Eden Gardens</th>\n",
       "      <th>venue_Feroz Shah Kotla</th>\n",
       "      <th>venue_M Chinnaswamy Stadium</th>\n",
       "      <th>venue_MA Chidambaram Stadium, Chepauk</th>\n",
       "      <th>venue_Punjab Cricket Association Stadium, Mohali</th>\n",
       "      <th>venue_Rajiv Gandhi International Stadium, Uppal</th>\n",
       "      <th>venue_Sawai Mansingh Stadium</th>\n",
       "      <th>venue_Wankhede Stadium</th>\n",
       "    </tr>\n",
       "  </thead>\n",
       "  <tbody>\n",
       "    <tr>\n",
       "      <th>32</th>\n",
       "      <td>2008-04-18</td>\n",
       "      <td>61</td>\n",
       "      <td>0</td>\n",
       "      <td>5.1</td>\n",
       "      <td>59</td>\n",
       "      <td>0</td>\n",
       "      <td>222</td>\n",
       "      <td>1</td>\n",
       "      <td>0</td>\n",
       "      <td>0</td>\n",
       "      <td>...</td>\n",
       "      <td>1</td>\n",
       "      <td>0</td>\n",
       "      <td>0</td>\n",
       "      <td>0</td>\n",
       "      <td>1</td>\n",
       "      <td>0</td>\n",
       "      <td>0</td>\n",
       "      <td>0</td>\n",
       "      <td>0</td>\n",
       "      <td>0</td>\n",
       "    </tr>\n",
       "    <tr>\n",
       "      <th>33</th>\n",
       "      <td>2008-04-18</td>\n",
       "      <td>61</td>\n",
       "      <td>1</td>\n",
       "      <td>5.2</td>\n",
       "      <td>59</td>\n",
       "      <td>1</td>\n",
       "      <td>222</td>\n",
       "      <td>1</td>\n",
       "      <td>0</td>\n",
       "      <td>0</td>\n",
       "      <td>...</td>\n",
       "      <td>1</td>\n",
       "      <td>0</td>\n",
       "      <td>0</td>\n",
       "      <td>0</td>\n",
       "      <td>1</td>\n",
       "      <td>0</td>\n",
       "      <td>0</td>\n",
       "      <td>0</td>\n",
       "      <td>0</td>\n",
       "      <td>0</td>\n",
       "    </tr>\n",
       "    <tr>\n",
       "      <th>34</th>\n",
       "      <td>2008-04-18</td>\n",
       "      <td>61</td>\n",
       "      <td>1</td>\n",
       "      <td>5.3</td>\n",
       "      <td>59</td>\n",
       "      <td>1</td>\n",
       "      <td>222</td>\n",
       "      <td>1</td>\n",
       "      <td>0</td>\n",
       "      <td>0</td>\n",
       "      <td>...</td>\n",
       "      <td>1</td>\n",
       "      <td>0</td>\n",
       "      <td>0</td>\n",
       "      <td>0</td>\n",
       "      <td>1</td>\n",
       "      <td>0</td>\n",
       "      <td>0</td>\n",
       "      <td>0</td>\n",
       "      <td>0</td>\n",
       "      <td>0</td>\n",
       "    </tr>\n",
       "    <tr>\n",
       "      <th>35</th>\n",
       "      <td>2008-04-18</td>\n",
       "      <td>61</td>\n",
       "      <td>1</td>\n",
       "      <td>5.4</td>\n",
       "      <td>59</td>\n",
       "      <td>1</td>\n",
       "      <td>222</td>\n",
       "      <td>1</td>\n",
       "      <td>0</td>\n",
       "      <td>0</td>\n",
       "      <td>...</td>\n",
       "      <td>1</td>\n",
       "      <td>0</td>\n",
       "      <td>0</td>\n",
       "      <td>0</td>\n",
       "      <td>1</td>\n",
       "      <td>0</td>\n",
       "      <td>0</td>\n",
       "      <td>0</td>\n",
       "      <td>0</td>\n",
       "      <td>0</td>\n",
       "    </tr>\n",
       "    <tr>\n",
       "      <th>36</th>\n",
       "      <td>2008-04-18</td>\n",
       "      <td>61</td>\n",
       "      <td>1</td>\n",
       "      <td>5.5</td>\n",
       "      <td>58</td>\n",
       "      <td>1</td>\n",
       "      <td>222</td>\n",
       "      <td>1</td>\n",
       "      <td>0</td>\n",
       "      <td>0</td>\n",
       "      <td>...</td>\n",
       "      <td>1</td>\n",
       "      <td>0</td>\n",
       "      <td>0</td>\n",
       "      <td>0</td>\n",
       "      <td>1</td>\n",
       "      <td>0</td>\n",
       "      <td>0</td>\n",
       "      <td>0</td>\n",
       "      <td>0</td>\n",
       "      <td>0</td>\n",
       "    </tr>\n",
       "    <tr>\n",
       "      <th>...</th>\n",
       "      <td>...</td>\n",
       "      <td>...</td>\n",
       "      <td>...</td>\n",
       "      <td>...</td>\n",
       "      <td>...</td>\n",
       "      <td>...</td>\n",
       "      <td>...</td>\n",
       "      <td>...</td>\n",
       "      <td>...</td>\n",
       "      <td>...</td>\n",
       "      <td>...</td>\n",
       "      <td>...</td>\n",
       "      <td>...</td>\n",
       "      <td>...</td>\n",
       "      <td>...</td>\n",
       "      <td>...</td>\n",
       "      <td>...</td>\n",
       "      <td>...</td>\n",
       "      <td>...</td>\n",
       "      <td>...</td>\n",
       "      <td>...</td>\n",
       "    </tr>\n",
       "    <tr>\n",
       "      <th>75884</th>\n",
       "      <td>2017-05-19</td>\n",
       "      <td>106</td>\n",
       "      <td>9</td>\n",
       "      <td>18.1</td>\n",
       "      <td>29</td>\n",
       "      <td>4</td>\n",
       "      <td>107</td>\n",
       "      <td>1</td>\n",
       "      <td>0</td>\n",
       "      <td>0</td>\n",
       "      <td>...</td>\n",
       "      <td>0</td>\n",
       "      <td>0</td>\n",
       "      <td>0</td>\n",
       "      <td>0</td>\n",
       "      <td>1</td>\n",
       "      <td>0</td>\n",
       "      <td>0</td>\n",
       "      <td>0</td>\n",
       "      <td>0</td>\n",
       "      <td>0</td>\n",
       "    </tr>\n",
       "    <tr>\n",
       "      <th>75885</th>\n",
       "      <td>2017-05-19</td>\n",
       "      <td>107</td>\n",
       "      <td>9</td>\n",
       "      <td>18.2</td>\n",
       "      <td>29</td>\n",
       "      <td>4</td>\n",
       "      <td>107</td>\n",
       "      <td>1</td>\n",
       "      <td>0</td>\n",
       "      <td>0</td>\n",
       "      <td>...</td>\n",
       "      <td>0</td>\n",
       "      <td>0</td>\n",
       "      <td>0</td>\n",
       "      <td>0</td>\n",
       "      <td>1</td>\n",
       "      <td>0</td>\n",
       "      <td>0</td>\n",
       "      <td>0</td>\n",
       "      <td>0</td>\n",
       "      <td>0</td>\n",
       "    </tr>\n",
       "    <tr>\n",
       "      <th>75886</th>\n",
       "      <td>2017-05-19</td>\n",
       "      <td>107</td>\n",
       "      <td>9</td>\n",
       "      <td>18.3</td>\n",
       "      <td>28</td>\n",
       "      <td>4</td>\n",
       "      <td>107</td>\n",
       "      <td>1</td>\n",
       "      <td>0</td>\n",
       "      <td>0</td>\n",
       "      <td>...</td>\n",
       "      <td>0</td>\n",
       "      <td>0</td>\n",
       "      <td>0</td>\n",
       "      <td>0</td>\n",
       "      <td>1</td>\n",
       "      <td>0</td>\n",
       "      <td>0</td>\n",
       "      <td>0</td>\n",
       "      <td>0</td>\n",
       "      <td>0</td>\n",
       "    </tr>\n",
       "    <tr>\n",
       "      <th>75887</th>\n",
       "      <td>2017-05-19</td>\n",
       "      <td>107</td>\n",
       "      <td>9</td>\n",
       "      <td>18.4</td>\n",
       "      <td>24</td>\n",
       "      <td>4</td>\n",
       "      <td>107</td>\n",
       "      <td>1</td>\n",
       "      <td>0</td>\n",
       "      <td>0</td>\n",
       "      <td>...</td>\n",
       "      <td>0</td>\n",
       "      <td>0</td>\n",
       "      <td>0</td>\n",
       "      <td>0</td>\n",
       "      <td>1</td>\n",
       "      <td>0</td>\n",
       "      <td>0</td>\n",
       "      <td>0</td>\n",
       "      <td>0</td>\n",
       "      <td>0</td>\n",
       "    </tr>\n",
       "    <tr>\n",
       "      <th>75888</th>\n",
       "      <td>2017-05-19</td>\n",
       "      <td>107</td>\n",
       "      <td>10</td>\n",
       "      <td>18.5</td>\n",
       "      <td>23</td>\n",
       "      <td>5</td>\n",
       "      <td>107</td>\n",
       "      <td>1</td>\n",
       "      <td>0</td>\n",
       "      <td>0</td>\n",
       "      <td>...</td>\n",
       "      <td>0</td>\n",
       "      <td>0</td>\n",
       "      <td>0</td>\n",
       "      <td>0</td>\n",
       "      <td>1</td>\n",
       "      <td>0</td>\n",
       "      <td>0</td>\n",
       "      <td>0</td>\n",
       "      <td>0</td>\n",
       "      <td>0</td>\n",
       "    </tr>\n",
       "  </tbody>\n",
       "</table>\n",
       "<p>28608 rows × 32 columns</p>\n",
       "</div>"
      ],
      "text/plain": [
       "            date  runs  wickets  overs  runs_last_5  wickets_last_5  total  \\\n",
       "32    2008-04-18    61        0    5.1           59               0    222   \n",
       "33    2008-04-18    61        1    5.2           59               1    222   \n",
       "34    2008-04-18    61        1    5.3           59               1    222   \n",
       "35    2008-04-18    61        1    5.4           59               1    222   \n",
       "36    2008-04-18    61        1    5.5           58               1    222   \n",
       "...          ...   ...      ...    ...          ...             ...    ...   \n",
       "75884 2017-05-19   106        9   18.1           29               4    107   \n",
       "75885 2017-05-19   107        9   18.2           29               4    107   \n",
       "75886 2017-05-19   107        9   18.3           28               4    107   \n",
       "75887 2017-05-19   107        9   18.4           24               4    107   \n",
       "75888 2017-05-19   107       10   18.5           23               5    107   \n",
       "\n",
       "       count  bat_team_Chennai Super Kings  bat_team_Delhi Daredevils  ...  \\\n",
       "32         1                             0                          0  ...   \n",
       "33         1                             0                          0  ...   \n",
       "34         1                             0                          0  ...   \n",
       "35         1                             0                          0  ...   \n",
       "36         1                             0                          0  ...   \n",
       "...      ...                           ...                        ...  ...   \n",
       "75884      1                             0                          0  ...   \n",
       "75885      1                             0                          0  ...   \n",
       "75886      1                             0                          0  ...   \n",
       "75887      1                             0                          0  ...   \n",
       "75888      1                             0                          0  ...   \n",
       "\n",
       "       bowl_team_Royal Challengers Bangalore  bowl_team_Sunrisers Hyderabad  \\\n",
       "32                                         1                              0   \n",
       "33                                         1                              0   \n",
       "34                                         1                              0   \n",
       "35                                         1                              0   \n",
       "36                                         1                              0   \n",
       "...                                      ...                            ...   \n",
       "75884                                      0                              0   \n",
       "75885                                      0                              0   \n",
       "75886                                      0                              0   \n",
       "75887                                      0                              0   \n",
       "75888                                      0                              0   \n",
       "\n",
       "       venue_Eden Gardens  venue_Feroz Shah Kotla  \\\n",
       "32                      0                       0   \n",
       "33                      0                       0   \n",
       "34                      0                       0   \n",
       "35                      0                       0   \n",
       "36                      0                       0   \n",
       "...                   ...                     ...   \n",
       "75884                   0                       0   \n",
       "75885                   0                       0   \n",
       "75886                   0                       0   \n",
       "75887                   0                       0   \n",
       "75888                   0                       0   \n",
       "\n",
       "       venue_M Chinnaswamy Stadium  venue_MA Chidambaram Stadium, Chepauk  \\\n",
       "32                               1                                      0   \n",
       "33                               1                                      0   \n",
       "34                               1                                      0   \n",
       "35                               1                                      0   \n",
       "36                               1                                      0   \n",
       "...                            ...                                    ...   \n",
       "75884                            1                                      0   \n",
       "75885                            1                                      0   \n",
       "75886                            1                                      0   \n",
       "75887                            1                                      0   \n",
       "75888                            1                                      0   \n",
       "\n",
       "       venue_Punjab Cricket Association Stadium, Mohali  \\\n",
       "32                                                    0   \n",
       "33                                                    0   \n",
       "34                                                    0   \n",
       "35                                                    0   \n",
       "36                                                    0   \n",
       "...                                                 ...   \n",
       "75884                                                 0   \n",
       "75885                                                 0   \n",
       "75886                                                 0   \n",
       "75887                                                 0   \n",
       "75888                                                 0   \n",
       "\n",
       "       venue_Rajiv Gandhi International Stadium, Uppal  \\\n",
       "32                                                   0   \n",
       "33                                                   0   \n",
       "34                                                   0   \n",
       "35                                                   0   \n",
       "36                                                   0   \n",
       "...                                                ...   \n",
       "75884                                                0   \n",
       "75885                                                0   \n",
       "75886                                                0   \n",
       "75887                                                0   \n",
       "75888                                                0   \n",
       "\n",
       "       venue_Sawai Mansingh Stadium  venue_Wankhede Stadium  \n",
       "32                                0                       0  \n",
       "33                                0                       0  \n",
       "34                                0                       0  \n",
       "35                                0                       0  \n",
       "36                                0                       0  \n",
       "...                             ...                     ...  \n",
       "75884                             0                       0  \n",
       "75885                             0                       0  \n",
       "75886                             0                       0  \n",
       "75887                             0                       0  \n",
       "75888                             0                       0  \n",
       "\n",
       "[28608 rows x 32 columns]"
      ]
     },
     "execution_count": 18,
     "metadata": {},
     "output_type": "execute_result"
    }
   ],
   "source": [
    "final_df"
   ]
  },
  {
   "cell_type": "markdown",
   "metadata": {},
   "source": [
    "Rearranging Columns of our DataSet"
   ]
  },
  {
   "cell_type": "code",
   "execution_count": 19,
   "metadata": {},
   "outputs": [
    {
     "data": {
      "text/html": [
       "<div>\n",
       "<style scoped>\n",
       "    .dataframe tbody tr th:only-of-type {\n",
       "        vertical-align: middle;\n",
       "    }\n",
       "\n",
       "    .dataframe tbody tr th {\n",
       "        vertical-align: top;\n",
       "    }\n",
       "\n",
       "    .dataframe thead th {\n",
       "        text-align: right;\n",
       "    }\n",
       "</style>\n",
       "<table border=\"1\" class=\"dataframe\">\n",
       "  <thead>\n",
       "    <tr style=\"text-align: right;\">\n",
       "      <th></th>\n",
       "      <th>date</th>\n",
       "      <th>bat_team_Chennai Super Kings</th>\n",
       "      <th>bat_team_Delhi Daredevils</th>\n",
       "      <th>bat_team_Kings XI Punjab</th>\n",
       "      <th>bat_team_Kolkata Knight Riders</th>\n",
       "      <th>bat_team_Mumbai Indians</th>\n",
       "      <th>bat_team_Rajasthan Royals</th>\n",
       "      <th>bat_team_Royal Challengers Bangalore</th>\n",
       "      <th>bat_team_Sunrisers Hyderabad</th>\n",
       "      <th>bowl_team_Chennai Super Kings</th>\n",
       "      <th>...</th>\n",
       "      <th>venue_Sawai Mansingh Stadium</th>\n",
       "      <th>venue_Punjab Cricket Association Stadium, Mohali</th>\n",
       "      <th>venue_Rajiv Gandhi International Stadium, Uppal</th>\n",
       "      <th>venue_Wankhede Stadium</th>\n",
       "      <th>overs</th>\n",
       "      <th>runs</th>\n",
       "      <th>wickets</th>\n",
       "      <th>runs_last_5</th>\n",
       "      <th>wickets_last_5</th>\n",
       "      <th>total</th>\n",
       "    </tr>\n",
       "  </thead>\n",
       "  <tbody>\n",
       "    <tr>\n",
       "      <th>32</th>\n",
       "      <td>2008-04-18</td>\n",
       "      <td>0</td>\n",
       "      <td>0</td>\n",
       "      <td>0</td>\n",
       "      <td>1</td>\n",
       "      <td>0</td>\n",
       "      <td>0</td>\n",
       "      <td>0</td>\n",
       "      <td>0</td>\n",
       "      <td>0</td>\n",
       "      <td>...</td>\n",
       "      <td>0</td>\n",
       "      <td>0</td>\n",
       "      <td>0</td>\n",
       "      <td>0</td>\n",
       "      <td>5.1</td>\n",
       "      <td>61</td>\n",
       "      <td>0</td>\n",
       "      <td>59</td>\n",
       "      <td>0</td>\n",
       "      <td>222</td>\n",
       "    </tr>\n",
       "    <tr>\n",
       "      <th>33</th>\n",
       "      <td>2008-04-18</td>\n",
       "      <td>0</td>\n",
       "      <td>0</td>\n",
       "      <td>0</td>\n",
       "      <td>1</td>\n",
       "      <td>0</td>\n",
       "      <td>0</td>\n",
       "      <td>0</td>\n",
       "      <td>0</td>\n",
       "      <td>0</td>\n",
       "      <td>...</td>\n",
       "      <td>0</td>\n",
       "      <td>0</td>\n",
       "      <td>0</td>\n",
       "      <td>0</td>\n",
       "      <td>5.2</td>\n",
       "      <td>61</td>\n",
       "      <td>1</td>\n",
       "      <td>59</td>\n",
       "      <td>1</td>\n",
       "      <td>222</td>\n",
       "    </tr>\n",
       "    <tr>\n",
       "      <th>34</th>\n",
       "      <td>2008-04-18</td>\n",
       "      <td>0</td>\n",
       "      <td>0</td>\n",
       "      <td>0</td>\n",
       "      <td>1</td>\n",
       "      <td>0</td>\n",
       "      <td>0</td>\n",
       "      <td>0</td>\n",
       "      <td>0</td>\n",
       "      <td>0</td>\n",
       "      <td>...</td>\n",
       "      <td>0</td>\n",
       "      <td>0</td>\n",
       "      <td>0</td>\n",
       "      <td>0</td>\n",
       "      <td>5.3</td>\n",
       "      <td>61</td>\n",
       "      <td>1</td>\n",
       "      <td>59</td>\n",
       "      <td>1</td>\n",
       "      <td>222</td>\n",
       "    </tr>\n",
       "    <tr>\n",
       "      <th>35</th>\n",
       "      <td>2008-04-18</td>\n",
       "      <td>0</td>\n",
       "      <td>0</td>\n",
       "      <td>0</td>\n",
       "      <td>1</td>\n",
       "      <td>0</td>\n",
       "      <td>0</td>\n",
       "      <td>0</td>\n",
       "      <td>0</td>\n",
       "      <td>0</td>\n",
       "      <td>...</td>\n",
       "      <td>0</td>\n",
       "      <td>0</td>\n",
       "      <td>0</td>\n",
       "      <td>0</td>\n",
       "      <td>5.4</td>\n",
       "      <td>61</td>\n",
       "      <td>1</td>\n",
       "      <td>59</td>\n",
       "      <td>1</td>\n",
       "      <td>222</td>\n",
       "    </tr>\n",
       "    <tr>\n",
       "      <th>36</th>\n",
       "      <td>2008-04-18</td>\n",
       "      <td>0</td>\n",
       "      <td>0</td>\n",
       "      <td>0</td>\n",
       "      <td>1</td>\n",
       "      <td>0</td>\n",
       "      <td>0</td>\n",
       "      <td>0</td>\n",
       "      <td>0</td>\n",
       "      <td>0</td>\n",
       "      <td>...</td>\n",
       "      <td>0</td>\n",
       "      <td>0</td>\n",
       "      <td>0</td>\n",
       "      <td>0</td>\n",
       "      <td>5.5</td>\n",
       "      <td>61</td>\n",
       "      <td>1</td>\n",
       "      <td>58</td>\n",
       "      <td>1</td>\n",
       "      <td>222</td>\n",
       "    </tr>\n",
       "  </tbody>\n",
       "</table>\n",
       "<p>5 rows × 31 columns</p>\n",
       "</div>"
      ],
      "text/plain": [
       "         date  bat_team_Chennai Super Kings  bat_team_Delhi Daredevils  \\\n",
       "32 2008-04-18                             0                          0   \n",
       "33 2008-04-18                             0                          0   \n",
       "34 2008-04-18                             0                          0   \n",
       "35 2008-04-18                             0                          0   \n",
       "36 2008-04-18                             0                          0   \n",
       "\n",
       "    bat_team_Kings XI Punjab  bat_team_Kolkata Knight Riders  \\\n",
       "32                         0                               1   \n",
       "33                         0                               1   \n",
       "34                         0                               1   \n",
       "35                         0                               1   \n",
       "36                         0                               1   \n",
       "\n",
       "    bat_team_Mumbai Indians  bat_team_Rajasthan Royals  \\\n",
       "32                        0                          0   \n",
       "33                        0                          0   \n",
       "34                        0                          0   \n",
       "35                        0                          0   \n",
       "36                        0                          0   \n",
       "\n",
       "    bat_team_Royal Challengers Bangalore  bat_team_Sunrisers Hyderabad  \\\n",
       "32                                     0                             0   \n",
       "33                                     0                             0   \n",
       "34                                     0                             0   \n",
       "35                                     0                             0   \n",
       "36                                     0                             0   \n",
       "\n",
       "    bowl_team_Chennai Super Kings  ...  venue_Sawai Mansingh Stadium  \\\n",
       "32                              0  ...                             0   \n",
       "33                              0  ...                             0   \n",
       "34                              0  ...                             0   \n",
       "35                              0  ...                             0   \n",
       "36                              0  ...                             0   \n",
       "\n",
       "    venue_Punjab Cricket Association Stadium, Mohali  \\\n",
       "32                                                 0   \n",
       "33                                                 0   \n",
       "34                                                 0   \n",
       "35                                                 0   \n",
       "36                                                 0   \n",
       "\n",
       "    venue_Rajiv Gandhi International Stadium, Uppal  venue_Wankhede Stadium  \\\n",
       "32                                                0                       0   \n",
       "33                                                0                       0   \n",
       "34                                                0                       0   \n",
       "35                                                0                       0   \n",
       "36                                                0                       0   \n",
       "\n",
       "    overs  runs  wickets  runs_last_5  wickets_last_5  total  \n",
       "32    5.1    61        0           59               0    222  \n",
       "33    5.2    61        1           59               1    222  \n",
       "34    5.3    61        1           59               1    222  \n",
       "35    5.4    61        1           59               1    222  \n",
       "36    5.5    61        1           58               1    222  \n",
       "\n",
       "[5 rows x 31 columns]"
      ]
     },
     "execution_count": 19,
     "metadata": {},
     "output_type": "execute_result"
    }
   ],
   "source": [
    "#rearranging the columns\n",
    "final_df = final_df[['date', 'bat_team_Chennai Super Kings', 'bat_team_Delhi Daredevils',\n",
    "                     'bat_team_Kings XI Punjab', 'bat_team_Kolkata Knight Riders',\n",
    "                     'bat_team_Mumbai Indians', 'bat_team_Rajasthan Royals',\n",
    "                     'bat_team_Royal Challengers Bangalore', 'bat_team_Sunrisers Hyderabad',\n",
    "                     'bowl_team_Chennai Super Kings', 'bowl_team_Delhi Daredevils',\n",
    "                     'bowl_team_Kings XI Punjab', 'bowl_team_Kolkata Knight Riders',\n",
    "                     'bowl_team_Mumbai Indians', 'bowl_team_Rajasthan Royals',\n",
    "                     'bowl_team_Royal Challengers Bangalore',\n",
    "                     'bowl_team_Sunrisers Hyderabad', 'venue_Eden Gardens',\n",
    "                     'venue_Feroz Shah Kotla', 'venue_M Chinnaswamy Stadium',\n",
    "                     'venue_MA Chidambaram Stadium, Chepauk', 'venue_Sawai Mansingh Stadium',\n",
    "                     'venue_Punjab Cricket Association Stadium, Mohali',\n",
    "                     'venue_Rajiv Gandhi International Stadium, Uppal',\n",
    "                     'venue_Wankhede Stadium', 'overs', 'runs', 'wickets', 'runs_last_5', 'wickets_last_5',\n",
    "                     'total']]\n",
    "\n",
    "final_df.head()"
   ]
  },
  {
   "cell_type": "markdown",
   "metadata": {},
   "source": [
    "Dividing the Data into Train and Test"
   ]
  },
  {
   "cell_type": "code",
   "execution_count": 20,
   "metadata": {},
   "outputs": [],
   "source": [
    "X_train = final_df.drop(labels='total', axis=1)[final_df['date'].dt.year <= 2016]\n",
    "X_test = final_df.drop(labels='total', axis=1)[final_df['date'].dt.year >= 2017]\n",
    "\n",
    "y_train = final_df[final_df['date'].dt.year <= 2016]['total'].values\n",
    "y_test = final_df[final_df['date'].dt.year>=2017]['total'].values"
   ]
  },
  {
   "cell_type": "markdown",
   "metadata": {},
   "source": [
    "Removing 'date' column"
   ]
  },
  {
   "cell_type": "code",
   "execution_count": 21,
   "metadata": {},
   "outputs": [],
   "source": [
    "X_train.drop(labels='date', axis=True, inplace=True)\n",
    "X_test.drop(labels='date', axis=True, inplace=True)"
   ]
  },
  {
   "cell_type": "markdown",
   "metadata": {},
   "source": [
    "Compare Multiple Algorithms & Perform Hyperparameter Tuning"
   ]
  },
  {
   "cell_type": "markdown",
   "metadata": {},
   "source": [
    "Lasso Regression Model"
   ]
  },
  {
   "cell_type": "markdown",
   "metadata": {},
   "source": [
    "GridSearchCV is used for hyperparameter tuning"
   ]
  },
  {
   "cell_type": "code",
   "execution_count": 22,
   "metadata": {},
   "outputs": [],
   "source": [
    "#Installed sklearn package req for training and testing of data\n",
    "\n",
    "#pip install sklearn"
   ]
  },
  {
   "cell_type": "code",
   "execution_count": 23,
   "metadata": {},
   "outputs": [],
   "source": [
    "#Importing required dependencies\n",
    "\n",
    "from sklearn.linear_model import Lasso\n",
    "from sklearn.model_selection import GridSearchCV"
   ]
  },
  {
   "cell_type": "code",
   "execution_count": 24,
   "metadata": {},
   "outputs": [
    {
     "name": "stderr",
     "output_type": "stream",
     "text": [
      "C:\\Users\\Dell\\AppData\\Local\\Programs\\Python\\Python39\\lib\\site-packages\\sklearn\\linear_model\\_coordinate_descent.py:647: ConvergenceWarning: Objective did not converge. You might want to increase the number of iterations, check the scale of the features or consider increasing regularisation. Duality gap: 3.035e+06, tolerance: 1.783e+03\n",
      "  model = cd_fast.enet_coordinate_descent(\n",
      "C:\\Users\\Dell\\AppData\\Local\\Programs\\Python\\Python39\\lib\\site-packages\\sklearn\\linear_model\\_coordinate_descent.py:647: ConvergenceWarning: Objective did not converge. You might want to increase the number of iterations, check the scale of the features or consider increasing regularisation. Duality gap: 3.006e+06, tolerance: 1.849e+03\n",
      "  model = cd_fast.enet_coordinate_descent(\n",
      "C:\\Users\\Dell\\AppData\\Local\\Programs\\Python\\Python39\\lib\\site-packages\\sklearn\\linear_model\\_coordinate_descent.py:647: ConvergenceWarning: Objective did not converge. You might want to increase the number of iterations, check the scale of the features or consider increasing regularisation. Duality gap: 3.383e+06, tolerance: 2.045e+03\n",
      "  model = cd_fast.enet_coordinate_descent(\n",
      "C:\\Users\\Dell\\AppData\\Local\\Programs\\Python\\Python39\\lib\\site-packages\\sklearn\\linear_model\\_coordinate_descent.py:647: ConvergenceWarning: Objective did not converge. You might want to increase the number of iterations, check the scale of the features or consider increasing regularisation. Duality gap: 3.125e+06, tolerance: 2.055e+03\n",
      "  model = cd_fast.enet_coordinate_descent(\n",
      "C:\\Users\\Dell\\AppData\\Local\\Programs\\Python\\Python39\\lib\\site-packages\\sklearn\\linear_model\\_coordinate_descent.py:647: ConvergenceWarning: Objective did not converge. You might want to increase the number of iterations, check the scale of the features or consider increasing regularisation. Duality gap: 3.185e+06, tolerance: 1.923e+03\n",
      "  model = cd_fast.enet_coordinate_descent(\n",
      "C:\\Users\\Dell\\AppData\\Local\\Programs\\Python\\Python39\\lib\\site-packages\\sklearn\\linear_model\\_coordinate_descent.py:647: ConvergenceWarning: Objective did not converge. You might want to increase the number of iterations, check the scale of the features or consider increasing regularisation. Duality gap: 3.086e+05, tolerance: 1.849e+03\n",
      "  model = cd_fast.enet_coordinate_descent(\n",
      "C:\\Users\\Dell\\AppData\\Local\\Programs\\Python\\Python39\\lib\\site-packages\\sklearn\\linear_model\\_coordinate_descent.py:647: ConvergenceWarning: Objective did not converge. You might want to increase the number of iterations, check the scale of the features or consider increasing regularisation. Duality gap: 4.867e+05, tolerance: 2.045e+03\n",
      "  model = cd_fast.enet_coordinate_descent(\n",
      "C:\\Users\\Dell\\AppData\\Local\\Programs\\Python\\Python39\\lib\\site-packages\\sklearn\\linear_model\\_coordinate_descent.py:647: ConvergenceWarning: Objective did not converge. You might want to increase the number of iterations, check the scale of the features or consider increasing regularisation. Duality gap: 4.527e+05, tolerance: 2.055e+03\n",
      "  model = cd_fast.enet_coordinate_descent(\n",
      "C:\\Users\\Dell\\AppData\\Local\\Programs\\Python\\Python39\\lib\\site-packages\\sklearn\\linear_model\\_coordinate_descent.py:647: ConvergenceWarning: Objective did not converge. You might want to increase the number of iterations, check the scale of the features or consider increasing regularisation. Duality gap: 4.234e+05, tolerance: 1.923e+03\n",
      "  model = cd_fast.enet_coordinate_descent(\n",
      "C:\\Users\\Dell\\AppData\\Local\\Programs\\Python\\Python39\\lib\\site-packages\\sklearn\\linear_model\\_coordinate_descent.py:647: ConvergenceWarning: Objective did not converge. You might want to increase the number of iterations, check the scale of the features or consider increasing regularisation. Duality gap: 3.086e+05, tolerance: 1.849e+03\n",
      "  model = cd_fast.enet_coordinate_descent(\n",
      "C:\\Users\\Dell\\AppData\\Local\\Programs\\Python\\Python39\\lib\\site-packages\\sklearn\\linear_model\\_coordinate_descent.py:647: ConvergenceWarning: Objective did not converge. You might want to increase the number of iterations, check the scale of the features or consider increasing regularisation. Duality gap: 4.867e+05, tolerance: 2.045e+03\n",
      "  model = cd_fast.enet_coordinate_descent(\n",
      "C:\\Users\\Dell\\AppData\\Local\\Programs\\Python\\Python39\\lib\\site-packages\\sklearn\\linear_model\\_coordinate_descent.py:647: ConvergenceWarning: Objective did not converge. You might want to increase the number of iterations, check the scale of the features or consider increasing regularisation. Duality gap: 4.527e+05, tolerance: 2.055e+03\n",
      "  model = cd_fast.enet_coordinate_descent(\n",
      "C:\\Users\\Dell\\AppData\\Local\\Programs\\Python\\Python39\\lib\\site-packages\\sklearn\\linear_model\\_coordinate_descent.py:647: ConvergenceWarning: Objective did not converge. You might want to increase the number of iterations, check the scale of the features or consider increasing regularisation. Duality gap: 4.234e+05, tolerance: 1.923e+03\n",
      "  model = cd_fast.enet_coordinate_descent(\n"
     ]
    },
    {
     "name": "stdout",
     "output_type": "stream",
     "text": [
      "{'alpha': 1}\n",
      "-343.1309689444175\n"
     ]
    }
   ],
   "source": [
    "lasso = Lasso()\n",
    "parameters = {'alpha': [1e-15, 1e-10, 1e-8,\n",
    "                        1e-3, 1e-2, 1, 5, 10, 20, 30, 35, 40]} #10^-15, 10^-10, ..., 30, 40\n",
    "lasso_regressor = GridSearchCV(\n",
    "    lasso, parameters, scoring='neg_mean_squared_error', cv=5)\n",
    "lasso_regressor.fit(X_train, y_train)\n",
    "print(lasso_regressor.best_params_)\n",
    "print(lasso_regressor.best_score_)"
   ]
  },
  {
   "cell_type": "code",
   "execution_count": 25,
   "metadata": {},
   "outputs": [],
   "source": [
    "prediction = lasso_regressor.predict(X_test)"
   ]
  },
  {
   "cell_type": "code",
   "execution_count": 26,
   "metadata": {},
   "outputs": [],
   "source": [
    "import sklearn.metrics as metrics\n"
   ]
  },
  {
   "cell_type": "code",
   "execution_count": 27,
   "metadata": {},
   "outputs": [
    {
     "name": "stdout",
     "output_type": "stream",
     "text": [
      "MAE: 11.119955248920911\n",
      "MSE: 203.82449147580928\n",
      "RMSE: 14.276711507760087\n"
     ]
    }
   ],
   "source": [
    "print('MAE:', metrics.mean_absolute_error(y_test, prediction))\n",
    "print('MSE:', metrics.mean_squared_error(y_test, prediction))\n",
    "print('RMSE:', np.sqrt(metrics.mean_squared_error(y_test, prediction)))"
   ]
  },
  {
   "cell_type": "code",
   "execution_count": 28,
   "metadata": {},
   "outputs": [
    {
     "name": "stderr",
     "output_type": "stream",
     "text": [
      "C:\\Users\\Dell\\AppData\\Local\\Programs\\Python\\Python39\\lib\\site-packages\\seaborn\\distributions.py:2619: FutureWarning: `distplot` is a deprecated function and will be removed in a future version. Please adapt your code to use either `displot` (a figure-level function with similar flexibility) or `histplot` (an axes-level function for histograms).\n",
      "  warnings.warn(msg, FutureWarning)\n"
     ]
    },
    {
     "data": {
      "text/plain": [
       "<AxesSubplot:ylabel='Density'>"
      ]
     },
     "execution_count": 28,
     "metadata": {},
     "output_type": "execute_result"
    },
    {
     "data": {
      "image/png": "[encoded data removed]",
      "text/plain": [
       "<Figure size 432x288 with 1 Axes>"
      ]
     },
     "metadata": {
      "needs_background": "light"
     },
     "output_type": "display_data"
    }
   ],
   "source": [
    "sns.distplot(y_test-prediction)"
   ]
  },
  {
   "cell_type": "markdown",
   "metadata": {},
   "source": [
    "Random Forest Regression Model"
   ]
  },
  {
   "cell_type": "markdown",
   "metadata": {},
   "source": [
    "RandomizedSearchCV for hyperparamter tuning"
   ]
  },
  {
   "cell_type": "code",
   "execution_count": 29,
   "metadata": {},
   "outputs": [],
   "source": [
    "#Importing required dependencies\n",
    "\n",
    "from sklearn.model_selection import RandomizedSearchCV"
   ]
  },
  {
   "cell_type": "code",
   "execution_count": 30,
   "metadata": {},
   "outputs": [],
   "source": [
    "#Importing req dependency and making the model\n",
    "\n",
    "from sklearn.ensemble import RandomForestRegressor\n",
    "model = RandomForestRegressor(random_state=42)"
   ]
  },
  {
   "cell_type": "code",
   "execution_count": 31,
   "metadata": {},
   "outputs": [
    {
     "name": "stdout",
     "output_type": "stream",
     "text": [
      "Parameters currently in use:\n",
      "\n",
      "{'bootstrap': True,\n",
      " 'ccp_alpha': 0.0,\n",
      " 'criterion': 'squared_error',\n",
      " 'max_depth': None,\n",
      " 'max_features': 'auto',\n",
      " 'max_leaf_nodes': None,\n",
      " 'max_samples': None,\n",
      " 'min_impurity_decrease': 0.0,\n",
      " 'min_samples_leaf': 1,\n",
      " 'min_samples_split': 2,\n",
      " 'min_weight_fraction_leaf': 0.0,\n",
      " 'n_estimators': 100,\n",
      " 'n_jobs': None,\n",
      " 'oob_score': False,\n",
      " 'random_state': 42,\n",
      " 'verbose': 0,\n",
      " 'warm_start': False}\n"
     ]
    }
   ],
   "source": [
    "from pprint import pprint\n",
    "# Look at parameters used by our current forest\n",
    "\n",
    "print('Parameters currently in use:\\n')\n",
    "pprint(model.get_params())"
   ]
  },
  {
   "cell_type": "code",
   "execution_count": 32,
   "metadata": {},
   "outputs": [],
   "source": [
    "# Number of trees in random forest\n",
    "n_estimators = [int(x) for x in np.linspace(start=200, stop=800, num=4)]\n",
    "# Number of features to consider at every split\n",
    "max_features = ['auto', 'sqrt']"
   ]
  },
  {
   "cell_type": "code",
   "execution_count": 33,
   "metadata": {},
   "outputs": [],
   "source": [
    "# Maximum number of levels in tree\n",
    "max_depth = [int(x) for x in np.linspace(10, 60, num=6)]\n",
    "max_depth.append(None)\n",
    "# Minimum number of samples required to split a node\n",
    "min_samples_split = [2, 5, 10]\n",
    "# Minimum number of samples required at each leaf node\n",
    "min_samples_leaf = [1, 2, 4]"
   ]
  },
  {
   "cell_type": "code",
   "execution_count": 34,
   "metadata": {},
   "outputs": [
    {
     "name": "stdout",
     "output_type": "stream",
     "text": [
      "{'n_estimators': [200, 400, 600, 800], 'max_features': ['auto', 'sqrt'], 'max_depth': [10, 20, 30, 40, 50, 60, None], 'min_samples_split': [2, 5, 10], 'min_samples_leaf': [1, 2, 4], 'bootstrap': [True, False]}\n"
     ]
    }
   ],
   "source": [
    "# Method of selecting samples for training each tree\n",
    "bootstrap = [True, False]\n",
    "# Create the random grid\n",
    "random_grid = {'n_estimators': n_estimators,\n",
    "               'max_features': max_features,\n",
    "               'max_depth': max_depth,\n",
    "               'min_samples_split': min_samples_split,\n",
    "               'min_samples_leaf': min_samples_leaf,\n",
    "               'bootstrap': bootstrap}\n",
    "print(random_grid)  "
   ]
  },
  {
   "cell_type": "code",
   "execution_count": 35,
   "metadata": {},
   "outputs": [
    {
     "name": "stdout",
     "output_type": "stream",
     "text": [
      "Fitting 2 folds for each of 50 candidates, totalling 100 fits\n"
     ]
    },
    {
     "data": {
      "text/plain": [
       "RandomizedSearchCV(cv=2, estimator=RandomForestRegressor(), n_iter=50,\n",
       "                   n_jobs=-1,\n",
       "                   param_distributions={'bootstrap': [True, False],\n",
       "                                        'max_depth': [10, 20, 30, 40, 50, 60,\n",
       "                                                      None],\n",
       "                                        'max_features': ['auto', 'sqrt'],\n",
       "                                        'min_samples_leaf': [1, 2, 4],\n",
       "                                        'min_samples_split': [2, 5, 10],\n",
       "                                        'n_estimators': [200, 400, 600, 800]},\n",
       "                   random_state=42, verbose=2)"
      ]
     },
     "execution_count": 35,
     "metadata": {},
     "output_type": "execute_result"
    }
   ],
   "source": [
    "# Use the random grid to search for best hyperparameters\n",
    "# First create the base model to tune\n",
    "rf = RandomForestRegressor()\n",
    "# Random search of parameters, using 3 fold cross validation,\n",
    "# search across 100 different combinations, and use all available cores\n",
    "rf_random = RandomizedSearchCV(estimator=rf, param_distributions=random_grid,\n",
    "                               n_iter=50, cv=2, verbose=2, random_state=42, n_jobs=-1)\n",
    "# Fit the random search model\n",
    "rf_random.fit(X_train, y_train)\n"
   ]
  },
  {
   "cell_type": "code",
   "execution_count": 36,
   "metadata": {},
   "outputs": [
    {
     "data": {
      "text/plain": [
       "{'n_estimators': 200,\n",
       " 'min_samples_split': 2,\n",
       " 'min_samples_leaf': 4,\n",
       " 'max_features': 'auto',\n",
       " 'max_depth': 20,\n",
       " 'bootstrap': True}"
      ]
     },
     "execution_count": 36,
     "metadata": {},
     "output_type": "execute_result"
    }
   ],
   "source": [
    "rf_random.best_params_"
   ]
  },
  {
   "cell_type": "code",
   "execution_count": 37,
   "metadata": {},
   "outputs": [],
   "source": [
    "prediction = rf_random.predict(X_test)\n"
   ]
  },
  {
   "cell_type": "code",
   "execution_count": 38,
   "metadata": {},
   "outputs": [
    {
     "name": "stdout",
     "output_type": "stream",
     "text": [
      "MAE: 14.288211653211992\n",
      "MSE: 350.7012509942492\n",
      "RMSE: 18.727019276816296\n"
     ]
    }
   ],
   "source": [
    "print('MAE:', metrics.mean_absolute_error(y_test, prediction))\n",
    "print('MSE:', metrics.mean_squared_error(y_test, prediction))\n",
    "print('RMSE:', np.sqrt(metrics.mean_squared_error(y_test, prediction)))"
   ]
  },
  {
   "cell_type": "code",
   "execution_count": 39,
   "metadata": {},
   "outputs": [
    {
     "name": "stderr",
     "output_type": "stream",
     "text": [
      "C:\\Users\\Dell\\AppData\\Local\\Programs\\Python\\Python39\\lib\\site-packages\\seaborn\\distributions.py:2619: FutureWarning: `distplot` is a deprecated function and will be removed in a future version. Please adapt your code to use either `displot` (a figure-level function with similar flexibility) or `histplot` (an axes-level function for histograms).\n",
      "  warnings.warn(msg, FutureWarning)\n"
     ]
    },
    {
     "data": {
      "text/plain": [
       "<AxesSubplot:ylabel='Density'>"
      ]
     },
     "execution_count": 39,
     "metadata": {},
     "output_type": "execute_result"
    },
    {
     "data": {
      "image/png": "[encoded data removed]",
      "text/plain": [
       "<Figure size 432x288 with 1 Axes>"
      ]
     },
     "metadata": {
      "needs_background": "light"
     },
     "output_type": "display_data"
    }
   ],
   "source": [
    "sns.distplot(y_test-prediction)\n"
   ]
  },
  {
   "cell_type": "markdown",
   "metadata": {},
   "source": [
    "Deployment"
   ]
  },
  {
   "cell_type": "code",
   "execution_count": 40,
   "metadata": {},
   "outputs": [],
   "source": [
    "# Creating a pickle file for the classifier\n",
    "filename = 'Batting-score-LassoReg-model.pkl'\n",
    "pickle.dump(lasso_regressor, open(filename, 'wb'))"
   ]
  }
 ],
 "metadata": {
  "interpreter": {
   "hash": "d62006d1f3422635846181a997a61e8ec3049f797e5d7dfe0cd1bb84092b7c19"
  },
  "kernelspec": {
   "display_name": "Python 3.9.5 64-bit",
   "language": "python",
   "name": "python3"
  },
  "language_info": {
   "codemirror_mode": {
    "name": "ipython",
    "version": 3
   },
   "file_extension": ".py",
   "mimetype": "text/x-python",
   "name": "python",
   "nbconvert_exporter": "python",
   "pygments_lexer": "ipython3",
   "version": "3.9.5"
  },
  "orig_nbformat": 4
 },
 "nbformat": 4,
 "nbformat_minor": 2
}
